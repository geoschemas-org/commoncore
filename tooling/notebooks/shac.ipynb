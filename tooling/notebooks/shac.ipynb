{
 "cells": [
  {
   "cell_type": "markdown",
   "metadata": {},
   "source": [
    "#  Shape Asset Catalogue\n",
    "\n",
    "This notebook describes a concept around the description of SHACL shape files leveraging schema.org.\n",
    "The result is a set of SHACL and RDF (JSON-LD + schema.org) that can all be loaded into a triplestore\n",
    "and queried.\n",
    "\n",
    "The basic approach follows:\n",
    "\n",
    "> diagram here with supporting text\n",
    "\n",
    "\n",
    "The functional goal follows:\n",
    "\n",
    "> talk about integration of knowledge graphs here..\n",
    "\n"
   ]
  },
  {
   "cell_type": "code",
   "execution_count": null,
   "metadata": {
    "collapsed": false,
    "jupyter": {
     "outputs_hidden": false
    }
   },
   "outputs": [],
   "source": []
  },
  {
   "cell_type": "code",
   "execution_count": null,
   "metadata": {
    "tags": []
   },
   "outputs": [],
   "source": []
  }
 ],
 "metadata": {
  "kernelspec": {
   "display_name": "Python 3 (ipykernel)",
   "language": "python",
   "name": "python3"
  },
  "language_info": {
   "codemirror_mode": {
    "name": "ipython",
    "version": 3
   },
   "file_extension": ".py",
   "mimetype": "text/x-python",
   "name": "python",
   "nbconvert_exporter": "python",
   "pygments_lexer": "ipython3",
   "version": "3.10.8"
  }
 },
 "nbformat": 4,
 "nbformat_minor": 4
}
