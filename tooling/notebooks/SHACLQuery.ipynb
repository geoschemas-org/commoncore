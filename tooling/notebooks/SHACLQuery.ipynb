{
 "cells": [
  {
   "cell_type": "markdown",
   "id": "6553fe83-2591-49bb-8fe0-4aa633e33592",
   "metadata": {},
   "source": [
    "# SHACL Query\n",
    "\n",
    "A simple notebook to demonstrate what can be extracted from a SHACL file.  Likeley this is predicates, vocanbularies and SPARQL.  Perhaps some \n",
    "object values etc. "
   ]
  },
  {
   "cell_type": "code",
   "execution_count": 31,
   "id": "d6f3aaf1-aed8-426d-8aa6-1b4a6ef7f285",
   "metadata": {},
   "outputs": [
    {
     "name": "stderr",
     "output_type": "stream",
     "text": [
      "<http://www.example.org/schema/> does not look like a valid URI, trying to serialize this will break.\n",
      "<http://www.example.org/schema/> does not look like a valid URI, trying to serialize this will break.\n"
     ]
    },
    {
     "name": "stdout",
     "output_type": "stream",
     "text": [
      "edges: 137\n",
      "\n",
      "nodes: 81\n",
      "\n"
     ]
    }
   ],
   "source": [
    "import kglab\n",
    "\n",
    "namespaces = {\n",
    " \"rdf\": \"<http://www.w3.org/1999/02/22-rdf-syntax-ns#>\" ,\n",
    " \"xsd\": \"<http://www.w3.org/2001/XMLSchema#>\" ,\n",
    "    \"ex\" : \"<http://www.example.org/schema/>\",\n",
    "    \"sh\": \"<http://www.w3.org/ns/shacl#>\" ,\n",
    " \"schema\": \"<http://schema.org/>\"\n",
    "    }\n",
    "\n",
    "# create a KnowledgeGraph object\n",
    "\n",
    "kg = kglab.KnowledgeGraph(\n",
    "    name = \"KG to play with SHACL graph query\",\n",
    "    base_uri = \"http://www.example.org/base/\",\n",
    "    namespaces = namespaces,\n",
    "    )\n",
    "\n",
    "# load RDF from a URL\n",
    "# kg.load_jsonld(\"../dataGraphs/org.jsonld\")\n",
    "kg.load_rdf(\"../shapeGraphs/googleRecommendedCoverageCheck.ttl\", format=\"ttl\")\n",
    "\n",
    "# measure the graph\n",
    "measure = kglab.Measure()\n",
    "measure.measure_graph(kg)\n",
    "\n",
    "print(\"edges: {}\\n\".format(measure.get_edge_count()))\n",
    "print(\"nodes: {}\\n\".format(measure.get_node_count()))\n",
    "\n",
    "# # serialize as a string in \"Turtle\" TTL format\n",
    "# ttl = kg.save_rdf_text()\n",
    "# print(ttl)\n"
   ]
  },
  {
   "cell_type": "code",
   "execution_count": 36,
   "outputs": [],
   "source": [
    "sparql = \"\"\"\n",
    "PREFIX sh: <http://www.w3.org/ns/shacl#>\n",
    "prefix schema: <http://schema.org/>\n",
    "\n",
    "SELECT DISTINCT ?o\n",
    "  WHERE {\n",
    "      ?s sh:path ?o\n",
    "  }\n",
    "  \"\"\""
   ],
   "metadata": {
    "collapsed": false
   }
  },
  {
   "cell_type": "code",
   "execution_count": 37,
   "outputs": [
    {
     "name": "stderr",
     "output_type": "stream",
     "text": [
      "<http://www.example.org/schema/> does not look like a valid URI, trying to serialize this will break.\n",
      "<http://www.example.org/schema/> does not look like a valid URI, trying to serialize this will break.\n"
     ]
    },
    {
     "data": {
      "text/plain": "                           o\n0      schema1:alternateName\n1            schema1:creator\n2           schema1:citation\n3         schema1:identifier\n4           schema1:keywords\n5            schema1:license\n6             schema1:sameAs\n7    schema1:spatialCoverage\n8   schema1:temporalCoverage\n9   schema1:variableMeasured\n10           schema1:version\n11               schema1:url",
      "text/html": "<div>\n<style scoped>\n    .dataframe tbody tr th:only-of-type {\n        vertical-align: middle;\n    }\n\n    .dataframe tbody tr th {\n        vertical-align: top;\n    }\n\n    .dataframe thead th {\n        text-align: right;\n    }\n</style>\n<table border=\"1\" class=\"dataframe\">\n  <thead>\n    <tr style=\"text-align: right;\">\n      <th></th>\n      <th>o</th>\n    </tr>\n  </thead>\n  <tbody>\n    <tr>\n      <th>0</th>\n      <td>schema1:alternateName</td>\n    </tr>\n    <tr>\n      <th>1</th>\n      <td>schema1:creator</td>\n    </tr>\n    <tr>\n      <th>2</th>\n      <td>schema1:citation</td>\n    </tr>\n    <tr>\n      <th>3</th>\n      <td>schema1:identifier</td>\n    </tr>\n    <tr>\n      <th>4</th>\n      <td>schema1:keywords</td>\n    </tr>\n    <tr>\n      <th>5</th>\n      <td>schema1:license</td>\n    </tr>\n    <tr>\n      <th>6</th>\n      <td>schema1:sameAs</td>\n    </tr>\n    <tr>\n      <th>7</th>\n      <td>schema1:spatialCoverage</td>\n    </tr>\n    <tr>\n      <th>8</th>\n      <td>schema1:temporalCoverage</td>\n    </tr>\n    <tr>\n      <th>9</th>\n      <td>schema1:variableMeasured</td>\n    </tr>\n    <tr>\n      <th>10</th>\n      <td>schema1:version</td>\n    </tr>\n    <tr>\n      <th>11</th>\n      <td>schema1:url</td>\n    </tr>\n  </tbody>\n</table>\n</div>"
     },
     "execution_count": 37,
     "metadata": {},
     "output_type": "execute_result"
    }
   ],
   "source": [
    "import pandas as pd\n",
    "\n",
    "df = kg.query_as_df(sparql)\n",
    "df.head(20)"
   ],
   "metadata": {
    "collapsed": false
   }
  },
  {
   "cell_type": "code",
   "execution_count": 25,
   "outputs": [],
   "source": [],
   "metadata": {
    "collapsed": false
   }
  }
 ],
 "metadata": {
  "kernelspec": {
   "display_name": "Python 3 (ipykernel)",
   "language": "python",
   "name": "python3"
  },
  "language_info": {
   "codemirror_mode": {
    "name": "ipython",
    "version": 3
   },
   "file_extension": ".py",
   "mimetype": "text/x-python",
   "name": "python",
   "nbconvert_exporter": "python",
   "pygments_lexer": "ipython3",
   "version": "3.10.8"
  }
 },
 "nbformat": 4,
 "nbformat_minor": 5
}
