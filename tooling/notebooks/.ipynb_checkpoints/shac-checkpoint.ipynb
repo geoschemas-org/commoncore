{
 "cells": [
  {
   "cell_type": "markdown",
   "source": [
    "#  Shape Asset Catalogue\n",
    "\n",
    "This notebook describes a concept around the description of SHACL shape files leveraging schema.org.\n",
    "The result is a set of SHACL and RDF (JSON-LD + schema.org) that can all be loaded into a triplestore\n",
    "and queried.\n",
    "\n",
    "The basic approach follows:\n",
    "\n",
    "> diagram here with supporting text\n",
    "\n",
    "\n",
    "The functional goal follows:\n",
    "\n",
    "> talk about integration of knowledge graphs here..\n",
    "\n"
   ],
   "metadata": {
    "collapsed": false
   }
  },
  {
   "cell_type": "code",
   "execution_count": null,
   "outputs": [],
   "source": [],
   "metadata": {
    "collapsed": false
   }
  },
  {
   "cell_type": "code",
   "execution_count": null,
   "metadata": {
    "collapsed": true
   },
   "outputs": [],
   "source": []
  }
 ],
 "metadata": {
  "kernelspec": {
   "display_name": "Python 3",
   "language": "python",
   "name": "python3"
  },
  "language_info": {
   "codemirror_mode": {
    "name": "ipython",
    "version": 2
   },
   "file_extension": ".py",
   "mimetype": "text/x-python",
   "name": "python",
   "nbconvert_exporter": "python",
   "pygments_lexer": "ipython2",
   "version": "2.7.6"
  }
 },
 "nbformat": 4,
 "nbformat_minor": 0
}
